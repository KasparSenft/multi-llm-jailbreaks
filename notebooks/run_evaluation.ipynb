{
 "cells": [
  {
   "cell_type": "code",
   "execution_count": null,
   "metadata": {},
   "outputs": [],
   "source": [
    "cd .."
   ]
  },
  {
   "cell_type": "markdown",
   "metadata": {},
   "source": [
    "### Import and Load Dataset and Evaluator Verdicts"
   ]
  },
  {
   "cell_type": "code",
   "execution_count": 3,
   "metadata": {},
   "outputs": [],
   "source": [
    "from utils.evaluate_jailbreak import evaluate_prompt\n",
    "from utils.jailbreak_evaluator_prompts import prompts\n",
    "import json\n",
    "\n",
    "with open('jailbreak_evaluator_stuff/jailbreak_dataset.json', 'r') as f:\n",
    "    dataset = json.load(f)\n",
    "\n",
    "with open('evaluations/jailbreaks/eval_10.json', 'r') as f:\n",
    "    verdicts = json.load(f)['Verdicts']"
   ]
  },
  {
   "cell_type": "markdown",
   "metadata": {},
   "source": [
    "#### Load Evaluator Verdicts and compare"
   ]
  },
  {
   "cell_type": "code",
   "execution_count": 13,
   "metadata": {},
   "outputs": [
    {
     "name": "stdout",
     "output_type": "stream",
     "text": [
      "All: 0.95\n",
      "Debate 0.95\n",
      "Negotiation 0.9944444444444445\n",
      "Interrogation 0.8166666666666667\n",
      "300 60 180 60\n"
     ]
    }
   ],
   "source": [
    "def change_root(path, new_dir = 'experiments_jack'):\n",
    "    return '/'.join([new_dir] + path.split('/')[1:])\n",
    "\n",
    "debate_correct = 0\n",
    "debate_total=0\n",
    "\n",
    "interrogation_correct =0\n",
    "interrogation_total = 0\n",
    "\n",
    "negotiation_correct = 0\n",
    "negotiation_total =0\n",
    "\n",
    "correct = 0\n",
    "total = 0\n",
    "\n",
    "for path, labels in dataset.items():\n",
    "    preds = verdicts[change_root(path)]\n",
    "    \n",
    "    for id, y in labels.items():\n",
    "        total+=1\n",
    "        correct += (y == preds[id])\n",
    "\n",
    "        ##See where the evaluator is making mistakes\n",
    "        # if y!= preds[id]:\n",
    "        #     print(path, id, preds[id], y)\n",
    "\n",
    "        if 'debate' in path:\n",
    "            debate_correct += (y==preds[id])\n",
    "            debate_total +=1\n",
    "        elif 'negotiation' in path:\n",
    "            negotiation_correct += (y==preds[id])\n",
    "            negotiation_total +=1\n",
    "        elif 'interrogation' in path:\n",
    "            interrogation_correct += (y==preds[id])\n",
    "            interrogation_total +=1\n",
    "\n",
    "print('All:', correct/total)\n",
    "print('Debate', debate_correct/debate_total) \n",
    "print('Negotiation', negotiation_correct/negotiation_total)\n",
    "print('Interrogation', interrogation_correct/interrogation_total)\n",
    "\n",
    "print(total, debate_total,negotiation_total,interrogation_total)\n",
    "    "
   ]
  }
 ],
 "metadata": {
  "kernelspec": {
   "display_name": "jailbreak2",
   "language": "python",
   "name": "python3"
  },
  "language_info": {
   "codemirror_mode": {
    "name": "ipython",
    "version": 3
   },
   "file_extension": ".py",
   "mimetype": "text/x-python",
   "name": "python",
   "nbconvert_exporter": "python",
   "pygments_lexer": "ipython3",
   "version": "3.11.0"
  }
 },
 "nbformat": 4,
 "nbformat_minor": 2
}
